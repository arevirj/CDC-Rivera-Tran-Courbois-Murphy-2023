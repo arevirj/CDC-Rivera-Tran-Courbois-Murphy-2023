{
 "cells": [
  {
   "cell_type": "markdown",
   "metadata": {},
   "source": [
    "## Spotify Web API data\n"
   ]
  },
  {
   "cell_type": "code",
   "execution_count": 8,
   "metadata": {},
   "outputs": [],
   "source": [
    "import spotipy\n",
    "from spotipy.oauth2 import SpotifyOAuth"
   ]
  },
  {
   "cell_type": "code",
   "execution_count": 10,
   "metadata": {},
   "outputs": [
    {
     "name": "stderr",
     "output_type": "stream",
     "text": [
      "C:\\Users\\justi\\AppData\\Local\\Temp\\ipykernel_37320\\3165804697.py:36: DeprecationWarning: You're using 'as_dict = True'.get_access_token will return the token string directly in future versions. Please adjust your code accordingly, or use get_cached_token instead.\n",
      "  access_token = sp_oauth.get_access_token()\n"
     ]
    },
    {
     "name": "stdout",
     "output_type": "stream",
     "text": [
      "{'access_token': 'BQBb5WQ9APa4IJa8tImPdiaZu_RqymAh_aGJB6QswpcqjyIJE8NPfgvJVCanGIljRcDYxVmekAbadKD1xOVaaPCBRPRTiiw7a4-4mryMGYxwsIKsSEmROLK5hRa39VgXEBuXClXL61ZDR6zBXJADQNbTb9vFbwTgx2Fo22z8iDQNMpvKk6-hLmv5mlgldX1K2mT5N0pIStUpX-A', 'token_type': 'Bearer', 'expires_in': 3600, 'refresh_token': 'AQBs6dwsbc67u4A7YiW-5YqhsPMtAr-pY57Hdf8R5nHpwmGf-zKyKYVZnotWTjxfKGiyivSlGEKkoZ7WA_FwlriAaY3zDyxgv5k71pX9AZTceAR4Uc5VZ6NZ2geF5_D65pM', 'scope': 'user-library-read', 'expires_at': 1696097565}\n"
     ]
    }
   ],
   "source": [
    "from dotenv import load_dotenv\n",
    "import os\n",
    "import base64\n",
    "from requests import post\n",
    "import json\n",
    "\n",
    "load_dotenv()\n",
    "\n",
    "client_id = os.getenv(\"CLIENT_ID\")\n",
    "client_secret = os.getenv(\"CLIENT_SECRET\")\n",
    "REDIRECT_URI = \"https://localhost/\"\n",
    "\n",
    "\n",
    "def get_token():\n",
    "    auth_string = client_id + \":\" + client_secret\n",
    "    auth_bytes = auth_string.encode(\"utf-8\")\n",
    "    auth_base64 = str(base64.b64encode(auth_bytes), \"utf-8\")\n",
    "    \n",
    "    url = \"https://accounts.spotify.com/api/token\"\n",
    "    headers = {\n",
    "        \"Authorization\": \"Basic \" + auth_base64,\n",
    "        \"Content-Type\": \"application/x-www-form-urlencoded\"\n",
    "    }\n",
    "    data = {\"grant_type\": \"client_credentials\"}\n",
    "    result = post(url, headers=headers, data=data)\n",
    "    json_result = json.loads(result.content)\n",
    "    token = json_result[\"access_token\"]\n",
    "    return token\n",
    "\n",
    "def get_auth_header(token):\n",
    "    return {\"Authorization\": \"Bearer \" + token}\n",
    "token = get_token()\n",
    "\n",
    "sp_oauth = SpotifyOAuth(client_id=client_id, client_secret=client_secret, redirect_uri = REDIRECT_URI, scope = \"user-library-read\")\n",
    "\n",
    "access_token = sp_oauth.get_access_token()\n",
    "\n"
   ]
  },
  {
   "cell_type": "code",
   "execution_count": 12,
   "metadata": {},
   "outputs": [],
   "source": [
    "sp = spotipy.Spotify(auth_manager=sp_oauth)"
   ]
  },
  {
   "cell_type": "code",
   "execution_count": 1,
   "metadata": {},
   "outputs": [],
   "source": []
  }
 ],
 "metadata": {
  "kernelspec": {
   "display_name": "Python 3",
   "language": "python",
   "name": "python3"
  },
  "language_info": {
   "codemirror_mode": {
    "name": "ipython",
    "version": 3
   },
   "file_extension": ".py",
   "mimetype": "text/x-python",
   "name": "python",
   "nbconvert_exporter": "python",
   "pygments_lexer": "ipython3",
   "version": "3.11.4"
  },
  "orig_nbformat": 4
 },
 "nbformat": 4,
 "nbformat_minor": 2
}
