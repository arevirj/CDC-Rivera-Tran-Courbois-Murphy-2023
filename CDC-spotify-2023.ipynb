{
 "cells": [
  {
   "cell_type": "markdown",
   "metadata": {},
   "source": [
    "## Spotify Web API data\n"
   ]
  },
  {
   "cell_type": "code",
   "execution_count": 2,
   "metadata": {},
   "outputs": [],
   "source": [
    "import spotipy\n",
    "from spotipy.oauth2 import SpotifyOAuth"
   ]
  },
  {
   "cell_type": "code",
   "execution_count": 1,
   "metadata": {},
   "outputs": [
    {
     "ename": "NameError",
     "evalue": "name 'SpotifyOAuth' is not defined",
     "output_type": "error",
     "traceback": [
      "\u001b[1;31m---------------------------------------------------------------------------\u001b[0m",
      "\u001b[1;31mNameError\u001b[0m                                 Traceback (most recent call last)",
      "\u001b[1;32mc:\\Users\\justi\\CDC-Rivera-Tran-Courbois-Murphy-2023\\CDC-spotify-2023.ipynb Cell 3\u001b[0m line \u001b[0;36m<cell line: 34>\u001b[1;34m()\u001b[0m\n\u001b[0;32m     <a href='vscode-notebook-cell:/c%3A/Users/justi/CDC-Rivera-Tran-Courbois-Murphy-2023/CDC-spotify-2023.ipynb#W6sZmlsZQ%3D%3D?line=30'>31</a>\u001b[0m     \u001b[39mreturn\u001b[39;00m {\u001b[39m\"\u001b[39m\u001b[39mAuthorization\u001b[39m\u001b[39m\"\u001b[39m: \u001b[39m\"\u001b[39m\u001b[39mBearer \u001b[39m\u001b[39m\"\u001b[39m \u001b[39m+\u001b[39m token}\n\u001b[0;32m     <a href='vscode-notebook-cell:/c%3A/Users/justi/CDC-Rivera-Tran-Courbois-Murphy-2023/CDC-spotify-2023.ipynb#W6sZmlsZQ%3D%3D?line=31'>32</a>\u001b[0m token \u001b[39m=\u001b[39m get_token()\n\u001b[1;32m---> <a href='vscode-notebook-cell:/c%3A/Users/justi/CDC-Rivera-Tran-Courbois-Murphy-2023/CDC-spotify-2023.ipynb#W6sZmlsZQ%3D%3D?line=33'>34</a>\u001b[0m sp_oauth \u001b[39m=\u001b[39m SpotifyOAuth(client_id\u001b[39m=\u001b[39mclient_id, client_secret\u001b[39m=\u001b[39mclient_secret, redirect_uri\u001b[39m=\u001b[39m REDIRECT_URI, scope \u001b[39m=\u001b[39m \u001b[39m\"\u001b[39m\u001b[39muser-library-read\u001b[39m\u001b[39m\"\u001b[39m)\n\u001b[0;32m     <a href='vscode-notebook-cell:/c%3A/Users/justi/CDC-Rivera-Tran-Courbois-Murphy-2023/CDC-spotify-2023.ipynb#W6sZmlsZQ%3D%3D?line=35'>36</a>\u001b[0m access_token \u001b[39m=\u001b[39m sp_oauth\u001b[39m.\u001b[39mget_access_token()\n\u001b[0;32m     <a href='vscode-notebook-cell:/c%3A/Users/justi/CDC-Rivera-Tran-Courbois-Murphy-2023/CDC-spotify-2023.ipynb#W6sZmlsZQ%3D%3D?line=36'>37</a>\u001b[0m refresh_token \u001b[39m=\u001b[39m sp_oauth\u001b[39m.\u001b[39mget_refresh_token()\n",
      "\u001b[1;31mNameError\u001b[0m: name 'SpotifyOAuth' is not defined"
     ]
    }
   ],
   "source": [
    "from dotenv import load_dotenv\n",
    "import os\n",
    "import base64\n",
    "from requests import post\n",
    "import json\n",
    "\n",
    "load_dotenv()\n",
    "\n",
    "client_id = os.getenv(\"CLIENT_ID\")\n",
    "client_secret = os.getenv(\"CLIENT_SECRET\")\n",
    "REDIRECT_URI = \"https://developer.spotify.com/\"\n",
    "\n",
    "\n",
    "def get_token():\n",
    "    auth_string = client_id + \":\" + client_secret\n",
    "    auth_bytes = auth_string.encode(\"utf-8\")\n",
    "    auth_base64 = str(base64.b64encode(auth_bytes), \"utf-8\")\n",
    "    \n",
    "    url = \"https://accounts.spotify.com/api/token\"\n",
    "    headers = {\n",
    "        \"Authorization\": \"Basic \" + auth_base64,\n",
    "        \"Content-Type\": \"application/x-www-form-urlencoded\"\n",
    "    }\n",
    "    data = {\"grant_type\": \"client_credentials\"}\n",
    "    result = post(url, headers=headers, data=data)\n",
    "    json_result = json.loads(result.content)\n",
    "    token = json_result[\"access_token\"]\n",
    "    return token\n",
    "\n",
    "def get_auth_header(token):\n",
    "    return {\"Authorization\": \"Bearer \" + token}\n",
    "token = get_token()\n",
    "\n",
    "sp_oauth = SpotifyOAuth(client_id=client_id, client_secret=client_secret, redirect_uri= REDIRECT_URI, scope = \"user-library-read\")\n",
    "\n",
    "access_token = sp_oauth.get_access_token()\n",
    "refresh_token = sp_oauth.get_refresh_token()\n",
    "\n",
    "print(refresh_token)\n"
   ]
  },
  {
   "cell_type": "code",
   "execution_count": null,
   "metadata": {},
   "outputs": [],
   "source": []
  },
  {
   "cell_type": "code",
   "execution_count": 1,
   "metadata": {},
   "outputs": [],
   "source": []
  }
 ],
 "metadata": {
  "kernelspec": {
   "display_name": "Python 3",
   "language": "python",
   "name": "python3"
  },
  "language_info": {
   "codemirror_mode": {
    "name": "ipython",
    "version": 3
   },
   "file_extension": ".py",
   "mimetype": "text/x-python",
   "name": "python",
   "nbconvert_exporter": "python",
   "pygments_lexer": "ipython3",
   "version": "3.11.4"
  },
  "orig_nbformat": 4
 },
 "nbformat": 4,
 "nbformat_minor": 2
}
